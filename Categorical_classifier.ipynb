{
 "cells": [
  {
   "cell_type": "code",
   "execution_count": 2,
   "id": "99061fcd",
   "metadata": {},
   "outputs": [],
   "source": [
    "import numpy as np\n",
    "import pandas as pd\n",
    "import matplotlib.pyplot as plt\n",
    "from keras.preprocessing import image\n",
    "from keras.models import Sequential\n",
    "from keras.layers import Convolution2D\n",
    "from keras.layers import MaxPooling2D\n",
    "from keras.layers import Dense\n",
    "from keras.layers import Flatten\n",
    "from keras.layers import Dropout"
   ]
  },
  {
   "cell_type": "code",
   "execution_count": 3,
   "id": "fb088a97",
   "metadata": {},
   "outputs": [],
   "source": [
    "Classifier=Sequential()"
   ]
  },
  {
   "cell_type": "code",
   "execution_count": 4,
   "id": "e0e4ce35",
   "metadata": {},
   "outputs": [],
   "source": [
    "Classifier.add(Convolution2D(filters=32,kernel_size=(3,3) ,input_shape=(64,64,3),activation='relu'))\n",
    "Classifier.add(MaxPooling2D(pool_size=(2,2),padding='same'))"
   ]
  },
  {
   "cell_type": "code",
   "execution_count": 5,
   "id": "41110822",
   "metadata": {},
   "outputs": [],
   "source": [
    "Classifier.add(Convolution2D(filters=64,kernel_size=(3,3),activation='relu'))\n",
    "Classifier.add(MaxPooling2D(pool_size=(2,2),padding='same')) \n",
    "Classifier.add(Dropout(rate=0.3))"
   ]
  },
  {
   "cell_type": "code",
   "execution_count": 6,
   "id": "07acab54",
   "metadata": {},
   "outputs": [],
   "source": [
    "Classifier.add(Convolution2D(filters=128,kernel_size=(3,3),activation='relu'))\n",
    "Classifier.add(MaxPooling2D(pool_size=(2,2),padding='same')) \n",
    "Classifier.add(Dropout(rate=0.3))"
   ]
  },
  {
   "cell_type": "code",
   "execution_count": 7,
   "id": "e1f85fc2",
   "metadata": {},
   "outputs": [],
   "source": [
    "Classifier.add(Flatten())\n",
    "Classifier.add(Dense(units=128,activation='relu'))\n",
    "Classifier.add(Dense(units=3,activation='softmax'))    \n",
    "Classifier.compile(optimizer='adam',loss='categorical_crossentropy',metrics=[\"categorical_accuracy\"])"
   ]
  },
  {
   "cell_type": "code",
   "execution_count": 8,
   "id": "9d975e00",
   "metadata": {},
   "outputs": [],
   "source": [
    "from keras_preprocessing.image import ImageDataGenerator"
   ]
  },
  {
   "cell_type": "code",
   "execution_count": 9,
   "id": "8c11d50e",
   "metadata": {},
   "outputs": [],
   "source": [
    "train_datagen = ImageDataGenerator( rescale=1./255,\n",
    "                                    shear_range=0.2,\n",
    "                                    zoom_range=0.2,\n",
    "                                    horizontal_flip=True)"
   ]
  },
  {
   "cell_type": "code",
   "execution_count": 10,
   "id": "72cc2e21",
   "metadata": {},
   "outputs": [],
   "source": [
    "test_datagen = ImageDataGenerator(rescale=1./255)"
   ]
  },
  {
   "cell_type": "code",
   "execution_count": 11,
   "id": "9f117c22",
   "metadata": {},
   "outputs": [
    {
     "name": "stdout",
     "output_type": "stream",
     "text": [
      "Found 12000 images belonging to 3 classes.\n"
     ]
    }
   ],
   "source": [
    "training_set = train_datagen.flow_from_directory('dataset/training_set',\n",
    "                                                     target_size=(64, 64),\n",
    "                                                     batch_size=32,\n",
    "                                                     class_mode='categorical')"
   ]
  },
  {
   "cell_type": "code",
   "execution_count": 12,
   "id": "7b9c6318",
   "metadata": {},
   "outputs": [
    {
     "name": "stdout",
     "output_type": "stream",
     "text": [
      "Found 7500 images belonging to 3 classes.\n"
     ]
    }
   ],
   "source": [
    "test_set = test_datagen.flow_from_directory('dataset/test_set',\n",
    "                                            target_size=(64, 64),\n",
    "                                            batch_size=32,\n",
    "                                            class_mode='categorical')"
   ]
  },
  {
   "cell_type": "code",
   "execution_count": 14,
   "id": "db7142da",
   "metadata": {},
   "outputs": [
    {
     "name": "stdout",
     "output_type": "stream",
     "text": [
      "Epoch 1/5\n",
      "375/375 [==============================] - 108s 288ms/step - loss: 0.4122 - categorical_accuracy: 0.8105 - val_loss: 0.2272 - val_categorical_accuracy: 0.9125\n",
      "Epoch 2/5\n",
      "375/375 [==============================] - 113s 303ms/step - loss: 0.2437 - categorical_accuracy: 0.9010 - val_loss: 0.2369 - val_categorical_accuracy: 0.9047\n",
      "Epoch 3/5\n",
      "375/375 [==============================] - 105s 281ms/step - loss: 0.2095 - categorical_accuracy: 0.9143 - val_loss: 0.1852 - val_categorical_accuracy: 0.9305\n",
      "Epoch 4/5\n",
      "375/375 [==============================] - 106s 282ms/step - loss: 0.1854 - categorical_accuracy: 0.9252 - val_loss: 0.1492 - val_categorical_accuracy: 0.9305\n",
      "Epoch 5/5\n",
      "375/375 [==============================] - 102s 272ms/step - loss: 0.1587 - categorical_accuracy: 0.9366 - val_loss: 0.1999 - val_categorical_accuracy: 0.9148\n"
     ]
    },
    {
     "data": {
      "text/plain": [
       "<tensorflow.python.keras.callbacks.History at 0x1fdb4089400>"
      ]
     },
     "execution_count": 14,
     "metadata": {},
     "output_type": "execute_result"
    }
   ],
   "source": [
    "Classifier.fit(training_set,\n",
    "               epochs=3,\n",
    "               validation_data=test_set,\n",
    "               validation_steps=40)"
   ]
  },
  {
   "cell_type": "code",
   "execution_count": 15,
   "id": "3acaa915",
   "metadata": {},
   "outputs": [],
   "source": [
    "from keras.preprocessing import image"
   ]
  },
  {
   "cell_type": "code",
   "execution_count": 16,
   "id": "ab3fbf5b",
   "metadata": {},
   "outputs": [],
   "source": [
    "test_image=image.load_img('dataset/single_prediction/lung_cancer_type_2.jpeg',target_size=(64, 64))\n",
    "test_image=image.img_to_array(test_image)\n",
    "test_image=np.expand_dims(test_image,axis=0)"
   ]
  },
  {
   "cell_type": "code",
   "execution_count": 18,
   "id": "db496c8f",
   "metadata": {},
   "outputs": [
    {
     "name": "stdout",
     "output_type": "stream",
     "text": [
      "{'lung_aca': 0, 'lung_n': 1, 'lung_scc': 2}\n"
     ]
    }
   ],
   "source": [
    "result=Classifier.predict(test_image)\n",
    "print(training_set.class_indices)\n",
    "if result[0][0]==1 :\n",
    "    prediction='lung_aca'\n",
    "elif result[0][1]==1 :\n",
    "    prediction='lung_n'\n",
    "elif result[0][2]==1 :\n",
    "    prediction='lung_scc'  "
   ]
  },
  {
   "cell_type": "code",
   "execution_count": 19,
   "id": "d90fcc7d",
   "metadata": {},
   "outputs": [
    {
     "name": "stdout",
     "output_type": "stream",
     "text": [
      "[[1. 0. 0.]]\n",
      "lung_aca\n"
     ]
    }
   ],
   "source": [
    "print(result)\n",
    "print(prediction)"
   ]
  },
  {
   "cell_type": "code",
   "execution_count": null,
   "id": "f4160e42",
   "metadata": {},
   "outputs": [],
   "source": []
  }
 ],
 "metadata": {
  "kernelspec": {
   "display_name": "Python 3",
   "language": "python",
   "name": "python3"
  },
  "language_info": {
   "codemirror_mode": {
    "name": "ipython",
    "version": 3
   },
   "file_extension": ".py",
   "mimetype": "text/x-python",
   "name": "python",
   "nbconvert_exporter": "python",
   "pygments_lexer": "ipython3",
   "version": "3.8.8"
  }
 },
 "nbformat": 4,
 "nbformat_minor": 5
}
